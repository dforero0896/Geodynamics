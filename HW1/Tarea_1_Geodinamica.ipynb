{
 "metadata": {
  "name": "",
  "signature": "sha256:4fec531cd98566f66209c2e935582d336c1086e9a47188915d7761cab246ef26"
 },
 "nbformat": 3,
 "nbformat_minor": 0,
 "worksheets": [
  {
   "cells": [
    {
     "cell_type": "code",
     "collapsed": false,
     "input": [
      "import numpy as np\n",
      "import matplotlib.pyplot as plt\n",
      "from scipy import stats"
     ],
     "language": "python",
     "metadata": {},
     "outputs": [],
     "prompt_number": 1
    },
    {
     "cell_type": "code",
     "collapsed": false,
     "input": [
      "def getDelta(lat1, lat2, long1, long2):#Entrega el \u00e1ngulo Delta en radianes, toma par\u00e1metros en grados\n",
      "    theta=np.deg2rad(90.-lat1)\n",
      "    thetaP=np.deg2rad(90.-lat2)\n",
      "    phi=np.deg2rad(long1)\n",
      "    phiP=np.deg2rad(long2)    \n",
      "    cosDelta=np.cos(theta)*np.cos(thetaP)\\\n",
      "    +np.sin(theta)*np.sin(thetaP)*np.cos(phi-phiP)\n",
      "    return np.arccos(cosDelta)\n",
      "\n",
      "def surfaceDistance(Delta): #Entrega la distancia en km, toma el \u00e1ngulo en radianes\n",
      "    return 6371.*Delta\n",
      "\n",
      "\n",
      "# Todos los arreglos tendr\u00e1n la estructura x=[real, geogr\u00e1fico]\n",
      "\n",
      "# Ejercicio 1.13\n",
      "# Polos norte\n",
      "latsN=[73., 90.]\n",
      "longsN=[-100., 0.]\n",
      "DistanceN=surfaceDistance(getDelta(latsN[0], latsN[1], longsN[0], longsN[1]))\n",
      "print 'Distancia entre los polos norte = ', DistanceN, 'km'\n",
      "\n",
      "# Polos sur\n",
      "\n",
      "latsS=[-68., -90.]\n",
      "longsS=[143., 0.]\n",
      "DistanceS=surfaceDistance(getDelta(latsS[0], latsS[1], longsS[0], longsS[1]))\n",
      "print 'Distancia entre los polos sur = ',DistanceS, 'km'\n"
     ],
     "language": "python",
     "metadata": {},
     "outputs": [
      {
       "output_type": "stream",
       "stream": "stdout",
       "text": [
        "Distancia entre los polos norte =  1890.31375296 km\n",
        "Distancia entre los polos sur =  2446.28838618 km\n"
       ]
      }
     ],
     "prompt_number": 2
    },
    {
     "cell_type": "code",
     "collapsed": false,
     "input": [
      "#Ejercicio 1.15\n",
      "northAmerica=[[87., 140.], [85., 197.], [64., 187.], \n",
      "              [76., 142.], [62., 100.], [46., 117.], \n",
      "              [37., 126.], [29., 123.], [28., 192.], \n",
      "              [7., 140.]]\n",
      "europe=[[80., 157.], [75., 151.], [86., 0.],\n",
      "        [36., 50.],  [45., 143.], [45., 160.], \n",
      "        [38., 161.], [0., 136.], [10., 176.], \n",
      "        [22., 167.]]\n",
      "\n",
      "Distances=np.zeros(len(northAmerica))\n",
      "time=['TeriaryU', 'TertiaryL', 'Cretaceous', 'Jurassic', 'Triassic', 'Permian', 'Carboniferous',\\\n",
      "      'Devonian', 'Silurian', 'Ordovician', 'Cambrian']\n",
      "for i in range(len(northAmerica)):\n",
      "    Distances[i]=(surfaceDistance(getDelta(northAmerica[i][0], europe[i][0], northAmerica[i][1],\\\n",
      "                                              europe[i][1])))\n",
      "x=np.arange(len(northAmerica))\n",
      "plt.plot(x,Distances, 'ro')\n",
      "plt.xticks(x, time, rotation='vertical')\n",
      "plt.margins(0.1)\n",
      "plt.xlabel('$Tiempo$', fontsize=15)\n",
      "plt.ylabel('$Distancia (km)$', fontsize=15)\n",
      "plt.title(u'Distancia entre los polos norte magn\u00e9ticos \\n medidos desde Norteam\u00e9rica \\\n",
      "y Europa \\n en funci\u00f3n del tiempo')\n",
      "plt.show()\n",
      "print Distances"
     ],
     "language": "python",
     "metadata": {},
     "outputs": [
      {
       "output_type": "stream",
       "stream": "stdout",
       "text": [
        "[  798.85567885  1341.29591617  3332.9423306   6193.79666254  3321.83325507\n",
        "  3312.02123915  3071.31054966  3507.96387274  2608.08837444  3340.98312789]\n"
       ]
      }
     ],
     "prompt_number": 3
    },
    {
     "cell_type": "code",
     "collapsed": false,
     "input": [
      "realTime=[0, -66, -100, -170,-237, -272, -346, -387, -433, -470]\n",
      "\n",
      "plt.plot(realTime, Distances, 'o-')\n",
      "plt.xlabel('$Tiempo(Myr)$', fontsize=15)\n",
      "plt.ylabel('$Distancia (km)$', fontsize=15)\n",
      "#plt.title(u'Distancia entre los polos norte magn\u00e9ticos \\n medidos desde Norteam\u00e9rica y Europa \\n \\\n",
      "#          en funci\u00f3n del tiempo')\n",
      "plt.margins(0.1)\n",
      "\n",
      "plt.gcf()\n",
      "plt.savefig('problema115.png')\n",
      "\n",
      "plt.show()\n"
     ],
     "language": "python",
     "metadata": {},
     "outputs": [],
     "prompt_number": 4
    },
    {
     "cell_type": "code",
     "collapsed": false,
     "input": [
      "'''\n",
      "De ahora en adelante el c\u00f3digo deber\u00eda ser ignorado.\n",
      "'''"
     ],
     "language": "python",
     "metadata": {},
     "outputs": []
    },
    {
     "cell_type": "code",
     "collapsed": false,
     "input": [
      "junction=[1.396564, -101.968757] #lat, long\n",
      "pacificCocos=[  1.842605, -101.991249]\n",
      "pacificNazca=[  0.947898, -102.024698]\n",
      "nazcaCocos=[  1.449945, -101.519245]\n",
      "\n",
      "\n",
      "\n",
      "\n",
      "\n",
      "pacific=[1.400902, -102.417428]\n",
      "cocos=[1.736868, -101.672299]\n",
      "nazca=[1.128066, -101.605133]\n",
      "NzCoPole=[4.8, -124.3, 0.91]\n",
      "NzPaPole=[55.6, -90.1, 1.36]\n",
      "CoPaPole=[36.8, -108.6, 2.]\n",
      "\n",
      "def velRelAB(PoleAB, Point): #Km/Myr\n",
      "    return 6371.*np.deg2rad(PoleAB[2])*np.sin(getDelta(PoleAB[0], Point[0], PoleAB[1], Point[1]))\n",
      "\n",
      "def getAzimuth(latPole,longPole, longX, Delta):\n",
      "    return np.rad2deg(np.pi/2 + np.arcsin((np.cos(np.deg2rad(latPole))\\\n",
      "                                           *np.sin(np.deg2rad(longPole-longX)))\\\n",
      "                                /np.sin(Delta)))\n",
      "\n",
      "\n",
      "vNzCo=[velRelAB(NzCoPole, nazcaCocos), getAzimuth(NzCoPole[0], NzCoPole[1], nazcaCocos[1], \\\n",
      "                 getDelta(NzCoPole[0], nazcaCocos[0], NzCoPole[1], nazcaCocos[1]))] #km/Myr\n",
      "print vNzCo\n",
      "vNzPa=[velRelAB(NzPaPole, pacificNazca), getAzimuth(NzPaPole[0], NzPaPole[1], pacificNazca[1], \\\n",
      "                 getDelta(NzPaPole[0], pacificNazca[0], NzPaPole[1], pacificNazca[1]))]\n",
      "print vNzPa\n",
      "\n",
      "vCoPaPole=[velRelAB(CoPaPole, pacificCocos), getAzimuth(CoPaPole[0], CoPaPole[1], pacificCocos[1], \\\n",
      "                 getDelta(CoPaPole[0], pacificCocos[0], CoPaPole[1], pacificCocos[1]))]\n",
      "print vCoPaPole\n",
      "#-vNzCo+vNzPa\n",
      "xsum=-vNzCo[0]*np.cos(np.deg2rad(vNzCo[1]))+vNzPa[0]*np.cos(np.deg2rad(vNzPa[1]))\n",
      "ysum=-vNzCo[0]*np.sin(np.deg2rad(vNzCo[1]))+vNzPa[0]*np.sin(np.deg2rad(vNzPa[1]))\n",
      "vCoPa=[xsum, ysum]\n",
      "vCoPaMag=np.sqrt(xsum**2 + ysum**2)\n",
      "vCoPaAz=180.+np.rad2deg(np.arctan(ysum/xsum))\n",
      "print vCoPaMag, vCoPaAz\n"
     ],
     "language": "python",
     "metadata": {},
     "outputs": [
      {
       "output_type": "stream",
       "stream": "stdout",
       "text": [
        "[39.518455646136289, 8.8972369083943743]\n",
        "[124.63447441422487, 98.142903442423417]\n",
        "[129.09726882475294, 80.865558474782617]\n",
        "130.252729642 115.803149598\n"
       ]
      }
     ],
     "prompt_number": 5
    },
    {
     "cell_type": "code",
     "collapsed": false,
     "input": [],
     "language": "python",
     "metadata": {},
     "outputs": [
      {
       "output_type": "stream",
       "stream": "stdout",
       "text": [
        "81.5341412451\n"
       ]
      }
     ],
     "prompt_number": 6
    },
    {
     "cell_type": "code",
     "collapsed": false,
     "input": [],
     "language": "python",
     "metadata": {},
     "outputs": [],
     "prompt_number": 7
    },
    {
     "cell_type": "code",
     "collapsed": false,
     "input": [],
     "language": "python",
     "metadata": {},
     "outputs": []
    },
    {
     "cell_type": "code",
     "collapsed": false,
     "input": [],
     "language": "python",
     "metadata": {},
     "outputs": []
    },
    {
     "cell_type": "code",
     "collapsed": false,
     "input": [],
     "language": "python",
     "metadata": {},
     "outputs": []
    },
    {
     "cell_type": "code",
     "collapsed": false,
     "input": [],
     "language": "python",
     "metadata": {},
     "outputs": []
    }
   ],
   "metadata": {}
  }
 ]
}