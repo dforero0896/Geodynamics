{
 "metadata": {
  "name": "",
  "signature": "sha256:b42841db24ed5b49c208e99af8137bcbc322cb78bf51d44cbc69725a833121c3"
 },
 "nbformat": 3,
 "nbformat_minor": 0,
 "worksheets": [
  {
   "cells": [
    {
     "cell_type": "code",
     "collapsed": false,
     "input": [
      "import numpy as np\n",
      "import matplotlib.pyplot as plt\n",
      "%matplotlib inline\n",
      "from scipy.special import erfinv, erf, erfc, erfcinv"
     ],
     "language": "python",
     "metadata": {},
     "outputs": [],
     "prompt_number": 1
    },
    {
     "cell_type": "code",
     "collapsed": false,
     "input": [
      "#Turcotte Problem 4.2\n",
      "#Import data from the table.\n",
      "data42=np.loadtxt('tab4-1.csv', delimiter=';', dtype='float')\n",
      "print data42"
     ],
     "language": "python",
     "metadata": {},
     "outputs": [
      {
       "output_type": "stream",
       "stream": "stdout",
       "text": [
        "[[ 380.      18.362    3.2  ]\n",
        " [ 402.      18.871    1.7  ]\n",
        " [ 412.      19.33     5.3  ]\n",
        " [ 465.      20.446    6.1  ]\n",
        " [ 475.      20.58     3.4  ]\n",
        " [ 510.      21.331    1.9  ]\n",
        " [ 515.      21.51     0.   ]]\n"
       ]
      }
     ],
     "prompt_number": 2
    },
    {
     "cell_type": "code",
     "collapsed": false,
     "input": [
      "def heatFlux(k, DT, thick):\n",
      "    '''Returns the average heat flux q(W/m**2) from a single layer \n",
      "    with k (W/m*K) thermal conductivity constant, thickess 'thick (m)'\n",
      "    and with a temperature difference of DT (C, K)'''\n",
      "    return k*DT/thick\n",
      "#Extract data from initial matrix\n",
      "depths=data42[:,0] #m\n",
      "Ts=data42[:,1]+273 #K\n",
      "#Calculate temperature differences\n",
      "DeltaT=np.roll(Ts, -1)-Ts \n",
      "DeltaT=DeltaT[:-1]\n",
      "theks=data42[:,2][:-1] #W/m*K\n",
      "#Calculate thicknesses\n",
      "thickness=np.roll(depths, -1)-depths\n",
      "thickness=thickness[:-1]\n",
      "resultq=heatFlux(theks, DeltaT, thickness)*1e3 #mW m^-2\n",
      "for i in range(len(resultq)):\n",
      "    print 'The obtained value for the heat flux in the %d layer \\n \\\n",
      "    is %.2f mW/m^2 \\n '%(i+1, resultq[i])\n",
      "print 'Then, the mean value for q across the section \\\n",
      "is %.2f mW/m^2'%np.mean(resultq)"
     ],
     "language": "python",
     "metadata": {},
     "outputs": [
      {
       "output_type": "stream",
       "stream": "stdout",
       "text": [
        "The obtained value for the heat flux in the 1 layer \n",
        "     is 74.04 mW/m^2 \n",
        " \n",
        "The obtained value for the heat flux in the 2 layer \n",
        "     is 78.03 mW/m^2 \n",
        " \n",
        "The obtained value for the heat flux in the 3 layer \n",
        "     is 111.60 mW/m^2 \n",
        " \n",
        "The obtained value for the heat flux in the 4 layer \n",
        "     is 81.74 mW/m^2 \n",
        " \n",
        "The obtained value for the heat flux in the 5 layer \n",
        "     is 72.95 mW/m^2 \n",
        " \n",
        "The obtained value for the heat flux in the 6 layer \n",
        "     is 68.02 mW/m^2 \n",
        " \n",
        "Then, the mean value for q across the section is 81.06 mW/m^2\n"
       ]
      }
     ],
     "prompt_number": 3
    },
    {
     "cell_type": "markdown",
     "metadata": {},
     "source": [
      "$$\\frac{T-T_1}{T_0-T_1}=erfc\\frac{y}{2\\sqrt{\\kappa t}}$$\n",
      "$$T|_{y=0}=T_0$$\n",
      "$$T|_{t=0}=T_1$$\n",
      "\n",
      "Thus, $T_0-T_1=10K$ or assume $T_0=10K,\\ T_1=0K$\n",
      "\n",
      "$y=1m$; \n",
      "$T=2K$\n",
      "$$\\eta=\\frac{y}{2\\sqrt{\\kappa t}}$$\n",
      "$$\\sqrt{t}=\\frac{y}{2\\sqrt{\\kappa}\\eta}$$\n",
      "$$t=\\left(\\frac{y}{2\\sqrt{\\kappa}\\eta}\\right)^2$$\n"
     ]
    },
    {
     "cell_type": "code",
     "collapsed": false,
     "input": [
      "# Turcotte Problem 4.32\n",
      "#Given values\n",
      "kappa=1. #mm**2/s\n",
      "y=1e3 #mm\n",
      "Tf=2. #K\n",
      "T1=0\n",
      "T0=T1+10\n",
      "#Value of erfc with given conditions.\n",
      "erfval=(Tf-T1)/(T0-T1)\n",
      "#Value of the argument eta of erfc(eta).\n",
      "eta=erfcinv(erfval)\n",
      "#Time calculated from eta.\n",
      "t=(3600.*24)**-1 * (y/(2*np.sqrt(kappa)*eta))**2 #days\n",
      "\n",
      "print 'The time it takes to increase temperature in 2K at 1m depth \\\n",
      "is %.2f days'%t"
     ],
     "language": "python",
     "metadata": {},
     "outputs": [
      {
       "output_type": "stream",
       "stream": "stdout",
       "text": [
        "The time it takes to increase temperature in 2K at 1m depth is 3.52 days\n"
       ]
      }
     ],
     "prompt_number": 4
    },
    {
     "cell_type": "code",
     "collapsed": false,
     "input": [
      "# Additional problem\n"
     ],
     "language": "python",
     "metadata": {},
     "outputs": [],
     "prompt_number": 5
    },
    {
     "cell_type": "markdown",
     "metadata": {},
     "source": [
      "The equation for the solidification of a sill is:\n",
      "$$\\frac{L\\sqrt{\\pi}}{c(T_m-T_0)}=\\frac{\\exp{(-\\lambda_2^2)}}{\\lambda_2(1+erf\\lambda_2)}$$\n",
      "\n",
      "where $$\\lambda_2=-\\frac{y_m}{2\\sqrt{\\kappa t}} \\Rightarrow \\sqrt{t}=-\\frac{y_m}{2\\sqrt{\\kappa}\\lambda_2}$$ and $y_m$ represents the depth from the surface of the sill to which it has solidified, so for knowing when it has solidified completely we shall say $$y_m=b$$ where $2b$ is the thickness of the sill.\n",
      "\n"
     ]
    },
    {
     "cell_type": "code",
     "collapsed": false,
     "input": [
      "#Array of possible lambda2s\n",
      "lambda2=np.linspace(0.01, 1.6, 10000)\n",
      "\n",
      "def theRightSide(lambda2):\n",
      "    '''Returns the (adimensional) right side of the equation 4-149\n",
      "    from Turcotte for a given value of lambda2'''\n",
      "    return np.exp(-lambda2**2)/(lambda2*(1+erf(lambda2)))\n",
      "\n",
      "#Array for possible values of the right side of the equation.\n",
      "rightSide=theRightSide(lambda2)\n",
      "#Given values.\n",
      "L=320e3 #J/kg\n",
      "c=1.2e3 #J/kgK\n",
      "kappa=0.55*(1e-3)**2 #m**2/s\n",
      "th=5. #m =2*b\n",
      "b=th/2 #m\n",
      "Tm=1200. #K\n",
      "T0=200. #K\n",
      "#Left side of the equation 4-149 from Turcotte.\n",
      "leftSide=L*np.sqrt(np.pi)/(c*(Tm-T0))\n",
      "#Array with leftside constant values.\n",
      "horiz=np.ones(len(lambda2))*leftSide"
     ],
     "language": "python",
     "metadata": {},
     "outputs": [],
     "prompt_number": 9
    },
    {
     "cell_type": "code",
     "collapsed": false,
     "input": [
      "#Plot of both sides of the equation 4-149.\n",
      "plt.plot(lambda2, rightSide, \\\n",
      "         label='$\\exp(-\\lambda_1^2)/\\lambda_1 erf\\lambda_1$')\n",
      "plt.plot(lambda2, horiz, label='$L\\sqrt{\\pi}/c(T_m-T_0)$')\n",
      "plt.xlim(0, 1.6)\n",
      "plt.ylim(0, 1)\n",
      "#Graphical solution for the equation.\n",
      "idx = np.argwhere(np.isclose(rightSide, horiz, atol=1e-4)).reshape(-1)\n",
      "plt.plot(lambda2[idx], rightSide[idx], 'ro')\n",
      "plt.xlabel('$\\lambda_1$', fontsize=15)\n",
      "plt.legend(loc=0)\n",
      "plt.show()\n",
      "print 'The value for lambda that solves the equation is %.4f'%lambda2[idx]"
     ],
     "language": "python",
     "metadata": {},
     "outputs": [
      {
       "metadata": {},
       "output_type": "display_data",
       "png": "[encoded data removed]",
       "text": [
        "<matplotlib.figure.Figure at 0x6b9acc0>"
       ]
      },
      {
       "output_type": "stream",
       "stream": "stdout",
       "text": [
        "The value for lambda that solves the equation is 0.7305\n"
       ]
      }
     ],
     "prompt_number": 10
    },
    {
     "cell_type": "code",
     "collapsed": false,
     "input": [
      "theLambda=lambda2[idx]\n",
      "#Time needed for the sill to solidify is calculated.\n",
      "t=b/(2*np.sqrt(kappa)*theLambda)\n",
      "t=(3600.*24)**-1 *t**2 #days\n",
      "print 'The time necessary for the sill \\\n",
      "to be completely solidified is t=%.3f days'%t"
     ],
     "language": "python",
     "metadata": {},
     "outputs": [
      {
       "output_type": "stream",
       "stream": "stdout",
       "text": [
        "The time necessary for the sill to be completely solidified is t=61.617 days\n"
       ]
      }
     ],
     "prompt_number": 16
    },
    {
     "cell_type": "markdown",
     "metadata": {},
     "source": [
      "$$T-T_0=\\frac{erfc(\\eta)}{erfc(-\\lambda_2)}(T_m-T_0)$$\n",
      "$$\\eta=\\frac{y}{2\\sqrt{\\kappa t}}$$"
     ]
    },
    {
     "cell_type": "markdown",
     "metadata": {},
     "source": [
      "The sill - country rock boundary is defined to be $y=0$, so $\\eta=0\\  \\forall t>0$ at the interface. Therefore\n",
      "$$T|_{y=0}=\\frac{1}{erfc(-\\lambda_2)}(T_m-T_0)+T_0$$"
     ]
    },
    {
     "cell_type": "code",
     "collapsed": false,
     "input": [
      "interfaceT=(erfc(-theLambda))**-1* (Tm-T0) + T0\n",
      "print 'The temperature at the sill - country rock interface \\\n",
      "is %.3f K'%interfaceT"
     ],
     "language": "python",
     "metadata": {},
     "outputs": [
      {
       "output_type": "stream",
       "stream": "stdout",
       "text": [
        "The temperature at the sill - country rock interface is 788.777 K\n"
       ]
      }
     ],
     "prompt_number": 17
    },
    {
     "cell_type": "code",
     "collapsed": false,
     "input": [
      "def TmenT0(eta):\n",
      "    return (Tm-T0)*erfc(eta)/(1.+erf(theLambda))\n",
      "def etafromy(y, t):\n",
      "    return y/(2*np.sqrt(kappa*t))"
     ],
     "language": "python",
     "metadata": {},
     "outputs": [],
     "prompt_number": 18
    },
    {
     "cell_type": "code",
     "collapsed": false,
     "input": [
      "ys=np.linspace(-3, 3, 100)\n",
      "theEta=etafromy(ys, 1.)\n",
      "ayear=24*3600.*365.25#s/yr\n",
      "possibleTimes=ayear*np.array([1., 10, 1./6])#s\n",
      "for i in possibleTimes:\n",
      "    plt.plot(ys, TmenT0(etafromy(ys, i)), label='$t=%.2f yr$'%(i/ayear))\n",
      "plt.legend(loc=0)\n",
      "plt.ylim(0, 1200)\n",
      "plt.xlabel('$y(m)$', fontsize=15)\n",
      "plt.ylabel('$T-T_0 (K)$', fontsize=15)"
     ],
     "language": "python",
     "metadata": {},
     "outputs": [
      {
       "metadata": {},
       "output_type": "pyout",
       "prompt_number": 25,
       "text": [
        "<matplotlib.text.Text at 0x81e04a8>"
       ]
      },
      {
       "metadata": {},
       "output_type": "display_data",
       "png": "[encoded data removed]",
       "text": [
        "<matplotlib.figure.Figure at 0x7c4a978>"
       ]
      }
     ],
     "prompt_number": 25
    },
    {
     "cell_type": "markdown",
     "metadata": {},
     "source": [
      "Since the time it takes for the sill to solidify is less than a year, it is expected that after 10 years the sill has not just solidified but reached thermal equilibrium with the country rock. This accounts for the almost-horizontal line at 10 years time."
     ]
    }
   ],
   "metadata": {}
  }
 ]
}