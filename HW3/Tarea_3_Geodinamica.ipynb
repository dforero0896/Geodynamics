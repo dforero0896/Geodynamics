{
 "metadata": {
  "name": "",
  "signature": "sha256:0a475066d392febd32ed6200fb6a893cd30ca38b336e36d3cb1a48be7bc3f81f"
 },
 "nbformat": 3,
 "nbformat_minor": 0,
 "worksheets": [
  {
   "cells": [
    {
     "cell_type": "code",
     "collapsed": false,
     "input": [
      "import numpy as np\n",
      "import matplotlib.pyplot as plt\n",
      "%matplotlib inline"
     ],
     "language": "python",
     "metadata": {},
     "outputs": [],
     "prompt_number": 2
    },
    {
     "cell_type": "markdown",
     "metadata": {},
     "source": [
      "Problem 5-5 from Turcotte and Schubert:\n",
      "Determine the values of the acceleration of gravity at the equator and the poles using GRS 80 and the quadratic approximation given in Equation (5\u201372).\n",
      "\n",
      "Equation 5-72:\n",
      "\n",
      "$g_0=\\frac{GM}{a^2}\\left(1+\\frac{3}{2}J_2\\cos^2\\phi\\right)+a\\omega^2(\\sin^2\\phi-\\cos^2\\phi).$\n",
      "\n",
      "GRS80 equation from T&S:\n",
      "\n",
      "$g0 = 9.7803267715(1 + 0.0052790414 \\sin^2\\phi+0.0000232718 \\sin^4\\phi+0.0000001262 \\sin^6\\phi+0.0000000007 \\sin^8\\phi)$\n",
      "\n",
      "From [Wikipedia's GRS80 page](https://en.wikipedia.org/wiki/GRS_80#Defining_features_of_GRS_80 \"Defining GRS80 features\"):\n",
      "\n",
      "Defining geometrical constants :\n",
      "\n",
      "+ Semi-major axis = Equatorial Radius = \n",
      "\n",
      "$ a=6378137m$\n",
      "\n",
      "\n",
      "Defining physical constants:\n",
      "\n",
      "\n",
      "+ Geocentric gravitational constant, including mass of the atmosphere \n",
      "\n",
      "$GM=3986005\\times 10^{8}m^{3}/s^{2} $\n",
      "\n",
      "\n",
      "+ Dynamical form factor \n",
      "\n",
      "$J_{2}=108263\\times 10^{-8} $\n",
      "\n",
      "\n",
      "+ Angular velocity of rotation \n",
      "\n",
      "$\\omega =7292115\\times 10^{-11}rad/s $"
     ]
    },
    {
     "cell_type": "code",
     "collapsed": false,
     "input": [
      "def GRS_g0(phi): \n",
      "    #returns gravity acceleration according to GRS80 standard\n",
      "    # in m/s^2\n",
      "    return 9.7803267715*(1+0.0052790414*(np.sin(phi))**2+\\\n",
      "                        0.0000232718*(np.sin(phi))**4+\\\n",
      "                        0.0000001262*(np.sin(phi))**6+\\\n",
      "                        0.0000000007*(np.sin(phi))**8)\n",
      "\n",
      "a=6378137. #m\n",
      "GM=3986005e8 #m^3/s^2\n",
      "J2=108263e-8 #dimensionless\n",
      "omega=7292115e-11 #rad/s\n",
      "def g0(phi):\n",
      "    #returns gravity acceleration according to GRS80 constants and T&S' equation 5-72\n",
      "    # in m/s^2\n",
      "    global a\n",
      "    global GM\n",
      "    global J2\n",
      "    global omega\n",
      "    return (GM/(a**2))*(1+1.5*J2*(np.cos(phi))**2)\\\n",
      "                +(a*omega**2)*((np.sin(phi))**2-(np.cos(phi))**2)"
     ],
     "language": "python",
     "metadata": {},
     "outputs": [],
     "prompt_number": 3
    },
    {
     "cell_type": "code",
     "collapsed": false,
     "input": [
      "#usingEquation=[northPole, southPole, equator]\n",
      "usingGRS=np.array([GRS_g0(np.pi/2), GRS_g0(-np.pi/2), GRS_g0(0.)])\n",
      "usingEq572=np.array([g0(np.pi/2), g0(-np.pi/2), g0(0.)])\n",
      "\n",
      "print 'The value for gravity at the north and south poles \\n \\\n",
      "from GRS80 equation are respectively %(north).6f \\n and %(south)\\\n",
      ".6f, while for the equator it is %(equator).6f \\n '\\\n",
      "%{'north':usingGRS[0],'south':usingGRS[1], 'equator':usingGRS[2]}\n",
      "\n",
      "print 'The value for gravity at the north and south poles \\n \\\n",
      "from equation 5-72 are respectively %(north).6f \\n and %(south)\\\n",
      ".6f, while for the equator it is %(equator).6f \\n '\\\n",
      "%{'north':usingEq572[0],'south':usingEq572[1], 'equator':usingEq572[2]}\n",
      "\n",
      "errPerc=abs(100.*(usingEq572-usingGRS)/usingEq572)\n",
      "print 'The percentage difference between methods is \\n of the order of 4e-4%.',errPerc"
     ],
     "language": "python",
     "metadata": {},
     "outputs": [
      {
       "output_type": "stream",
       "stream": "stdout",
       "text": [
        "The value for gravity at the north and south poles \n",
        " from GRS80 equation are respectively 9.832186 \n",
        " and 9.832186, while for the equator it is 9.780327 \n",
        " \n",
        "The value for gravity at the north and south poles \n",
        " from equation 5-72 are respectively 9.832203 \n",
        " and 9.832203, while for the equator it is 9.780283 \n",
        " \n",
        "The percentage difference between methods is \n",
        " of the order of 4e-4%. [ 0.00016525  0.00016525  0.0004467 ]\n"
       ]
      }
     ],
     "prompt_number": 17
    },
    {
     "cell_type": "markdown",
     "metadata": {},
     "source": [
      "It is possible to see that there are slight differences between methods, but these are truly negligible as the percentual differences between values are of the order of $10^{-4}\\%$."
     ]
    },
    {
     "cell_type": "code",
     "collapsed": false,
     "input": [
      "latitude=np.linspace(-np.pi/2, np.pi/2, 1000)\n",
      "gravities, ax=plt.subplots(1, 2, sharey=True, figsize=(10,4))\n",
      "\n",
      "ax[0].plot(np.rad2deg(latitude), g0(latitude), label='Equation 5-72', lw=3)\n",
      "ax[1].plot(np.rad2deg(latitude), GRS_g0(latitude), label='GRS80 Equation', c='r', lw=3)\n",
      "for i in range(len(ax)):\n",
      "    ax[i].set_xlabel('Latitude (Deg)')\n",
      "    ax[i].legend(loc=0)\n",
      "ax[0].set_ylabel('$g_0$', fontsize=15)"
     ],
     "language": "python",
     "metadata": {},
     "outputs": [
      {
       "metadata": {},
       "output_type": "pyout",
       "prompt_number": 5,
       "text": [
        "<matplotlib.text.Text at 0x6fd23c8>"
       ]
      },
      {
       "metadata": {},
       "output_type": "display_data",
       "png": "[encoded data removed]",
       "text": [
        "<matplotlib.figure.Figure at 0x6f1f438>"
       ]
      }
     ],
     "prompt_number": 5
    },
    {
     "cell_type": "code",
     "collapsed": false,
     "input": [],
     "language": "python",
     "metadata": {},
     "outputs": []
    }
   ],
   "metadata": {}
  }
 ]
}